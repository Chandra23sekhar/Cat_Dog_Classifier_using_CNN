{
 "cells": [
  {
   "cell_type": "code",
   "execution_count": 1,
   "id": "930f8cf7",
   "metadata": {},
   "outputs": [],
   "source": [
    "import numpy as np\n",
    "import pandas as pd"
   ]
  },
  {
   "cell_type": "code",
   "execution_count": 2,
   "id": "896759d6",
   "metadata": {},
   "outputs": [],
   "source": [
    "import seaborn as sns\n",
    "import matplotlib.pyplot as plt\n",
    "%matplotlib inline"
   ]
  },
  {
   "cell_type": "code",
   "execution_count": 3,
   "id": "24e36d3d",
   "metadata": {},
   "outputs": [],
   "source": [
    "import os\n",
    "os.environ['TF_CPP_MIN_LOG_LEVEL'] = '3' \n",
    "import tensorflow as tf\n",
    "from keras.preprocessing.image import ImageDataGenerator"
   ]
  },
  {
   "cell_type": "markdown",
   "id": "4c0956f7",
   "metadata": {},
   "source": [
    "# 1-Data Preprocessing"
   ]
  },
  {
   "cell_type": "markdown",
   "id": "633fc87b",
   "metadata": {},
   "source": [
    "# Preprocessing the training the training dataset"
   ]
  },
  {
   "cell_type": "code",
   "execution_count": 4,
   "id": "e1e9c13e",
   "metadata": {},
   "outputs": [
    {
     "name": "stdout",
     "output_type": "stream",
     "text": [
      "Found 8000 images belonging to 2 classes.\n"
     ]
    }
   ],
   "source": [
    "# apply transformation for training set, to reduce overfitting.\n",
    "# -> Image augmentation\n",
    "\n",
    "training_datagen = ImageDataGenerator(\n",
    "    rescale=1./255, # feature scaling to each pixel (val / 255)\n",
    "    shear_range=0.2,\n",
    "    zoom_range=0.2,\n",
    "    horizontal_flip=True\n",
    ")\n",
    "\n",
    "training_set = training_datagen.flow_from_directory(\n",
    "    './dataset/training_set', # directory / path to the training dataset\n",
    "    target_size=(64, 64), # final size of the image which will be fit to the Neural Network\n",
    "    batch_size=32, # no. of images in each batch\n",
    "    class_mode='binary' # binary or categorical\n",
    ")"
   ]
  },
  {
   "cell_type": "markdown",
   "id": "6b0cafc8",
   "metadata": {},
   "source": [
    "# Preprocessing the test the training dataset"
   ]
  },
  {
   "cell_type": "code",
   "execution_count": 5,
   "id": "0bc3df53",
   "metadata": {},
   "outputs": [
    {
     "name": "stdout",
     "output_type": "stream",
     "text": [
      "Found 2000 images belonging to 2 classes.\n"
     ]
    }
   ],
   "source": [
    "test_datagen = ImageDataGenerator(rescale=1./255)\n",
    "\n",
    "test_set = test_datagen.flow_from_directory(\n",
    "    './dataset/test_set', # directory / path to the training dataset\n",
    "    target_size=(64, 64), # final size of the image which will be fit to the Neural Network\n",
    "    batch_size=32, # no. of images in each batch\n",
    "    class_mode='binary' # binary or categorical\n",
    ")"
   ]
  },
  {
   "cell_type": "markdown",
   "id": "612577f5",
   "metadata": {},
   "source": [
    "# 2-Building the CNN"
   ]
  },
  {
   "cell_type": "code",
   "execution_count": 6,
   "id": "77c477c6",
   "metadata": {},
   "outputs": [],
   "source": [
    "cnn = tf.keras.models.Sequential()"
   ]
  },
  {
   "cell_type": "code",
   "execution_count": 7,
   "id": "dc7786b3",
   "metadata": {},
   "outputs": [],
   "source": [
    "# Convolutional Layers\n",
    "cnn.add(\n",
    "    tf.keras.layers.Conv2D(\n",
    "        filters=32, #no. of feature detectors\n",
    "        kernel_size=3, # size of the feature detector\n",
    "        input_shape=[64, 64, 3], # 3 -> rgb\n",
    "        activation='relu'\n",
    "    )\n",
    ")"
   ]
  },
  {
   "cell_type": "code",
   "execution_count": 8,
   "id": "0936c1a6",
   "metadata": {},
   "outputs": [],
   "source": [
    "# Pooling Layer\n",
    "\n",
    "cnn.add(\n",
    "    tf.keras.layers.MaxPool2D(\n",
    "        pool_size=(2, 2),\n",
    "        strides=2\n",
    "    )\n",
    ")"
   ]
  },
  {
   "cell_type": "code",
   "execution_count": 9,
   "id": "9ad52e75",
   "metadata": {},
   "outputs": [],
   "source": [
    "# Adding another Conv2D Layer\n",
    "# NOTE* : no input size parameter\n",
    "cnn.add(\n",
    "    tf.keras.layers.Conv2D(\n",
    "        filters=32, #no. of feature detectors\n",
    "        kernel_size=3, # size of the feature detector\n",
    "        activation='relu'\n",
    "    )\n",
    ")"
   ]
  },
  {
   "cell_type": "code",
   "execution_count": 10,
   "id": "7b81e1e8",
   "metadata": {},
   "outputs": [],
   "source": [
    "# Adding another Pooling Layer\n",
    "\n",
    "cnn.add(\n",
    "    tf.keras.layers.MaxPool2D(\n",
    "        pool_size=(2, 2),\n",
    "        strides=2\n",
    "    )\n",
    ")"
   ]
  },
  {
   "cell_type": "markdown",
   "id": "a834c133",
   "metadata": {},
   "source": [
    "# 3-Flattening"
   ]
  },
  {
   "cell_type": "code",
   "execution_count": 11,
   "id": "c7b8e9f5",
   "metadata": {},
   "outputs": [],
   "source": [
    "cnn.add(\n",
    "    tf.keras.layers.Flatten()\n",
    ")"
   ]
  },
  {
   "cell_type": "markdown",
   "id": "60f709b4",
   "metadata": {},
   "source": [
    "# 4-Full Connection"
   ]
  },
  {
   "cell_type": "code",
   "execution_count": 12,
   "id": "6ac7ac37",
   "metadata": {},
   "outputs": [],
   "source": [
    "# hidden layer-1\n",
    "cnn.add(\n",
    "    tf.keras.layers.Dense(\n",
    "        units=64,\n",
    "        activation='relu'\n",
    "    )\n",
    ")\n",
    "\n",
    "# # hidden layer-2\n",
    "# cnn.add(\n",
    "#     tf.keras.layers.Dense(\n",
    "#         units=128,\n",
    "#         activation='relu'\n",
    "#     )\n",
    "# )"
   ]
  },
  {
   "cell_type": "markdown",
   "id": "2936a8e4",
   "metadata": {},
   "source": [
    "# 5-Output Layer"
   ]
  },
  {
   "cell_type": "code",
   "execution_count": 13,
   "id": "961647ec",
   "metadata": {},
   "outputs": [],
   "source": [
    "# output layer\n",
    "cnn.add(\n",
    "    tf.keras.layers.Dense(\n",
    "        units=1,\n",
    "        activation='sigmoid'\n",
    "    )\n",
    ")"
   ]
  },
  {
   "cell_type": "markdown",
   "id": "30d4ed85",
   "metadata": {},
   "source": [
    "# 6-Training the CNN"
   ]
  },
  {
   "cell_type": "code",
   "execution_count": 14,
   "id": "001ecacb",
   "metadata": {},
   "outputs": [],
   "source": [
    "cnn.compile(optimizer='adam', loss='binary_crossentropy', metrics=['accuracy'])"
   ]
  },
  {
   "cell_type": "code",
   "execution_count": 15,
   "id": "c3e3d06d",
   "metadata": {},
   "outputs": [
    {
     "name": "stdout",
     "output_type": "stream",
     "text": [
      "Epoch 1/20\n",
      "250/250 [==============================] - 36s 140ms/step - loss: 0.6883 - accuracy: 0.5506 - val_loss: 0.6513 - val_accuracy: 0.6410\n",
      "Epoch 2/20\n",
      "250/250 [==============================] - 34s 136ms/step - loss: 0.6124 - accuracy: 0.6710 - val_loss: 0.5711 - val_accuracy: 0.7105\n",
      "Epoch 3/20\n",
      "250/250 [==============================] - 34s 137ms/step - loss: 0.5638 - accuracy: 0.7092 - val_loss: 0.5432 - val_accuracy: 0.7320\n",
      "Epoch 4/20\n",
      "250/250 [==============================] - 34s 137ms/step - loss: 0.5386 - accuracy: 0.7322 - val_loss: 0.5755 - val_accuracy: 0.7115\n",
      "Epoch 5/20\n",
      "250/250 [==============================] - 34s 137ms/step - loss: 0.5106 - accuracy: 0.7492 - val_loss: 0.5253 - val_accuracy: 0.7355\n",
      "Epoch 6/20\n",
      "250/250 [==============================] - 34s 136ms/step - loss: 0.5067 - accuracy: 0.7470 - val_loss: 0.4846 - val_accuracy: 0.7735\n",
      "Epoch 7/20\n",
      "250/250 [==============================] - 35s 139ms/step - loss: 0.4792 - accuracy: 0.7722 - val_loss: 0.4716 - val_accuracy: 0.7775\n",
      "Epoch 8/20\n",
      "250/250 [==============================] - 34s 137ms/step - loss: 0.4634 - accuracy: 0.7836 - val_loss: 0.4716 - val_accuracy: 0.7790\n",
      "Epoch 9/20\n",
      "250/250 [==============================] - 35s 138ms/step - loss: 0.4511 - accuracy: 0.7879 - val_loss: 0.5360 - val_accuracy: 0.7480\n",
      "Epoch 10/20\n",
      "250/250 [==============================] - 34s 137ms/step - loss: 0.4429 - accuracy: 0.7901 - val_loss: 0.4678 - val_accuracy: 0.7765\n",
      "Epoch 11/20\n",
      "250/250 [==============================] - 34s 137ms/step - loss: 0.4344 - accuracy: 0.7949 - val_loss: 0.4616 - val_accuracy: 0.7775\n",
      "Epoch 12/20\n",
      "250/250 [==============================] - 34s 135ms/step - loss: 0.4269 - accuracy: 0.8037 - val_loss: 0.4456 - val_accuracy: 0.7970\n",
      "Epoch 13/20\n",
      "250/250 [==============================] - 34s 138ms/step - loss: 0.4192 - accuracy: 0.8067 - val_loss: 0.4464 - val_accuracy: 0.8040\n",
      "Epoch 14/20\n",
      "250/250 [==============================] - 34s 138ms/step - loss: 0.4038 - accuracy: 0.8152 - val_loss: 0.4482 - val_accuracy: 0.7950\n",
      "Epoch 15/20\n",
      "250/250 [==============================] - 34s 135ms/step - loss: 0.3904 - accuracy: 0.8213 - val_loss: 0.4349 - val_accuracy: 0.8070\n",
      "Epoch 16/20\n",
      "250/250 [==============================] - 34s 138ms/step - loss: 0.3858 - accuracy: 0.8196 - val_loss: 0.4499 - val_accuracy: 0.7945\n",
      "Epoch 17/20\n",
      "250/250 [==============================] - 34s 137ms/step - loss: 0.3795 - accuracy: 0.8278 - val_loss: 0.4556 - val_accuracy: 0.7985\n",
      "Epoch 18/20\n",
      "250/250 [==============================] - 36s 146ms/step - loss: 0.3588 - accuracy: 0.8399 - val_loss: 0.4377 - val_accuracy: 0.8040\n",
      "Epoch 19/20\n",
      "250/250 [==============================] - 34s 137ms/step - loss: 0.3491 - accuracy: 0.8464 - val_loss: 0.4460 - val_accuracy: 0.8110\n",
      "Epoch 20/20\n",
      "250/250 [==============================] - 34s 137ms/step - loss: 0.3525 - accuracy: 0.8394 - val_loss: 0.4333 - val_accuracy: 0.8160\n"
     ]
    },
    {
     "data": {
      "text/plain": [
       "<keras.callbacks.History at 0x7fafbcaae160>"
      ]
     },
     "execution_count": 15,
     "metadata": {},
     "output_type": "execute_result"
    }
   ],
   "source": [
    "cnn.fit(\n",
    "    x=training_set,\n",
    "    y=None,\n",
    "    batch_size=None,\n",
    "    epochs=20,\n",
    "    verbose='auto',\n",
    "    callbacks=None,\n",
    "    validation_split=0.0,\n",
    "    validation_data=test_set,\n",
    "    shuffle=True,\n",
    "    class_weight=None,\n",
    "    sample_weight=None,\n",
    "    initial_epoch=0,\n",
    "    steps_per_epoch=None,\n",
    "    validation_steps=None,\n",
    "    validation_batch_size=None,\n",
    "    validation_freq=1,\n",
    "    max_queue_size=10,\n",
    "    workers=1,\n",
    "    use_multiprocessing=False,\n",
    ")"
   ]
  },
  {
   "cell_type": "code",
   "execution_count": 16,
   "id": "f3fafefb",
   "metadata": {},
   "outputs": [],
   "source": [
    "loss_df = pd.DataFrame(cnn.history.history)"
   ]
  },
  {
   "cell_type": "code",
   "execution_count": 17,
   "id": "2ed5edf7",
   "metadata": {},
   "outputs": [],
   "source": [
    "pd1 = loss_df[['loss', 'accuracy']]\n",
    "pd2 = loss_df[['val_loss', 'val_accuracy']]"
   ]
  },
  {
   "cell_type": "code",
   "execution_count": 18,
   "id": "051d88a4",
   "metadata": {},
   "outputs": [
    {
     "data": {
      "text/plain": [
       "<AxesSubplot:>"
      ]
     },
     "execution_count": 18,
     "metadata": {},
     "output_type": "execute_result"
    },
    {
     "data": {
      "image/png": "[encoded data removed]",
      "text/plain": [
       "<Figure size 432x288 with 1 Axes>"
      ]
     },
     "metadata": {
      "needs_background": "light"
     },
     "output_type": "display_data"
    }
   ],
   "source": [
    "# training loss\n",
    "pd1.plot()"
   ]
  },
  {
   "cell_type": "code",
   "execution_count": 19,
   "id": "17489ebe",
   "metadata": {},
   "outputs": [
    {
     "data": {
      "text/plain": [
       "<AxesSubplot:>"
      ]
     },
     "execution_count": 19,
     "metadata": {},
     "output_type": "execute_result"
    },
    {
     "data": {
      "image/png": "[encoded data removed]",
      "text/plain": [
       "<Figure size 432x288 with 1 Axes>"
      ]
     },
     "metadata": {
      "needs_background": "light"
     },
     "output_type": "display_data"
    }
   ],
   "source": [
    "# validation loss\n",
    "pd2.plot()"
   ]
  },
  {
   "cell_type": "markdown",
   "id": "272d04c5",
   "metadata": {},
   "source": [
    "# 7 - Prediction"
   ]
  },
  {
   "cell_type": "code",
   "execution_count": 20,
   "id": "a55ed545",
   "metadata": {},
   "outputs": [],
   "source": [
    "from tensorflow.keras.utils import load_img, img_to_array"
   ]
  },
  {
   "cell_type": "code",
   "execution_count": 29,
   "id": "8d43fa44",
   "metadata": {},
   "outputs": [],
   "source": [
    "# load image\n",
    "\n",
    "test_image = load_img('dataset/single_prediction/cat_or_dog_3.jpg', target_size=(64, 64))\n",
    "\n",
    "# convert the image into an array\n",
    "test_image = img_to_array(test_image) # image should be in a batch\n",
    "test_image = np.expand_dims(test_image, axis=0)"
   ]
  },
  {
   "cell_type": "code",
   "execution_count": 30,
   "id": "65438d6b",
   "metadata": {},
   "outputs": [
    {
     "name": "stdout",
     "output_type": "stream",
     "text": [
      "1/1 [==============================] - 0s 19ms/step\n",
      "Prediction: DOG\n"
     ]
    }
   ],
   "source": [
    "result = cnn.predict(test_image)\n",
    "training_set.class_indices\n",
    "\n",
    "if result[0][0] == 1:\n",
    "    print(\"Prediction: DOG\")\n",
    "else:\n",
    "    print(\"Prediction: CAT\")"
   ]
  },
  {
   "cell_type": "code",
   "execution_count": 26,
   "id": "a49c9a50",
   "metadata": {},
   "outputs": [],
   "source": [
    "# Save the model as h5 file\n",
    "cnn.save('model.h5')"
   ]
  }
 ],
 "metadata": {
  "kernelspec": {
   "display_name": "Python 3 (ipykernel)",
   "language": "python",
   "name": "python3"
  },
  "language_info": {
   "codemirror_mode": {
    "name": "ipython",
    "version": 3
   },
   "file_extension": ".py",
   "mimetype": "text/x-python",
   "name": "python",
   "nbconvert_exporter": "python",
   "pygments_lexer": "ipython3",
   "version": "3.9.7"
  }
 },
 "nbformat": 4,
 "nbformat_minor": 5
}
